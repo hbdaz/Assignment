{
 "cells": [
  {
   "cell_type": "markdown",
   "id": "723dcccf",
   "metadata": {},
   "source": [
    "# 2- title.png"
   ]
  },
  {
   "cell_type": "markdown",
   "id": "f0dd047f",
   "metadata": {},
   "source": [
    "# 3- intro.png\n",
    "In this notebook, Data Science Tools and Ecosystem are summarized."
   ]
  },
  {
   "cell_type": "markdown",
   "id": "95240ffa",
   "metadata": {},
   "source": [
    "# 10- objectives.png\n",
    "\n",
    "__List popular languages for Data Science__\n",
    "\n",
    "+ Python\n",
    "+ R\n",
    "\n",
    "__Data Science Tools__\n",
    "\n",
    "+ RStudio\n",
    "+ TensorFlow\n",
    "+ Apache Spark\n"
   ]
  },
  {
   "cell_type": "markdown",
   "id": "1d743c0a",
   "metadata": {},
   "source": [
    "# 4- dslanguages.png\n",
    "\n",
    "Some of the popular languages that Data Scientists use are:\n",
    "1. Python\n",
    "2. R\n",
    "3. SQL"
   ]
  },
  {
   "cell_type": "markdown",
   "id": "46571281",
   "metadata": {},
   "source": [
    "# 5- dslibraries.png\n",
    "Some of the commonly used libraries used by Data Scientists include:\n",
    "1. Pandas\n",
    "2. Numpy\n",
    "3. Matplotlib   "
   ]
  },
  {
   "cell_type": "markdown",
   "id": "b42eac64",
   "metadata": {},
   "source": [
    "# 6-dstools.png\n",
    "\n",
    "|Data Science Tools|\n",
    "|----|\n",
    "|RStudio|\n",
    "|TensorFlow|\n",
    "|Apache Spark|"
   ]
  },
  {
   "cell_type": "markdown",
   "id": "c1cd21b8",
   "metadata": {},
   "source": [
    "# 7- introarithmetic.png \n",
    "\n",
    "### Below are a few examples of evaluating arithmetic expressions in Python\n"
   ]
  },
  {
   "cell_type": "markdown",
   "id": "f91260c2",
   "metadata": {},
   "source": [
    "# 8- multiplyandaddintegers.png\n",
    "\n",
    "\n",
    "\n"
   ]
  },
  {
   "cell_type": "code",
   "execution_count": 1,
   "id": "01ccdb0f",
   "metadata": {},
   "outputs": [
    {
     "data": {
      "text/plain": [
       "17"
      ]
     },
     "execution_count": 1,
     "metadata": {},
     "output_type": "execute_result"
    }
   ],
   "source": [
    "# This a simple arithmetic expression to mutiply then add integers\n",
    "(3*4)+5"
   ]
  },
  {
   "cell_type": "markdown",
   "id": "173acac4",
   "metadata": {},
   "source": [
    "# 9- hourstominutes.png\n",
    "\n"
   ]
  },
  {
   "cell_type": "code",
   "execution_count": 2,
   "id": "8118aa96",
   "metadata": {},
   "outputs": [
    {
     "name": "stdout",
     "output_type": "stream",
     "text": [
      "200 is equal to  3.333333 hours\n"
     ]
    }
   ],
   "source": [
    "# his will convert 200 minutes to hours by diving by 60 \n",
    "\n",
    "minutes = 200\n",
    "hour = minutes/60\n",
    "\n",
    "print(f\"{minutes} is equal to {hour: 2f} hours\" )\n"
   ]
  },
  {
   "cell_type": "markdown",
   "id": "6e1b5fbc",
   "metadata": {},
   "source": [
    "# 11- authordetails.png\n",
    "\n",
    "## Author\n",
    "Jean David Gobey"
   ]
  },
  {
   "cell_type": "code",
   "execution_count": null,
   "id": "bd4af583",
   "metadata": {},
   "outputs": [],
   "source": []
  }
 ],
 "metadata": {
  "kernelspec": {
   "display_name": "Python 3 (ipykernel)",
   "language": "python",
   "name": "python3"
  },
  "language_info": {
   "codemirror_mode": {
    "name": "ipython",
    "version": 3
   },
   "file_extension": ".py",
   "mimetype": "text/x-python",
   "name": "python",
   "nbconvert_exporter": "python",
   "pygments_lexer": "ipython3",
   "version": "3.10.9"
  }
 },
 "nbformat": 4,
 "nbformat_minor": 5
}
